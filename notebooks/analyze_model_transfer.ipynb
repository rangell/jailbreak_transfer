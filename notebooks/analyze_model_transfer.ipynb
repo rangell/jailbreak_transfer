{
 "cells": [
  {
   "cell_type": "code",
   "execution_count": null,
   "id": "6f3881a1-8e29-4bd6-bc13-0b7c570ead03",
   "metadata": {},
   "outputs": [],
   "source": [
    "%load_ext autoreload\n",
    "%autoreload 2"
   ]
  },
  {
   "cell_type": "code",
   "execution_count": null,
   "id": "651e9d2a-4f95-4c65-854c-5f8a3188656a",
   "metadata": {},
   "outputs": [],
   "source": [
    "from collections import defaultdict\n",
    "import copy\n",
    "import pickle\n",
    "import glob\n",
    "import json\n",
    "import pandas as pd\n",
    "import matplotlib.pyplot as plt\n",
    "import seaborn as sns\n",
    "import numpy as np\n",
    "from scipy import stats\n",
    "from tqdm import tqdm\n",
    "from sklearn.metrics import roc_auc_score"
   ]
  },
  {
   "cell_type": "code",
   "execution_count": null,
   "id": "079a9140-ae78-4cac-a57e-3fbbe22b8389",
   "metadata": {},
   "outputs": [],
   "source": [
    "def load_jsonl_pandas(file_path):\n",
    "    with open(file_path, 'r') as f:\n",
    "        lines = f.read().splitlines()\n",
    "\n",
    "    df_inter = pd.DataFrame(lines, columns=['json_element'])\n",
    "    df = df_inter['json_element'].apply(json.loads).to_list()\n",
    "    return df"
   ]
  },
  {
   "cell_type": "code",
   "execution_count": null,
   "id": "dba87896-89b0-40fd-ae86-1025300901aa",
   "metadata": {
    "scrolled": true
   },
   "outputs": [],
   "source": [
    "available_models = set()\n",
    "scored_eval_data = defaultdict(list)\n",
    "\n",
    "success_responses = []\n",
    "\n",
    "eval_filenames = ((set(glob.glob(\"../results/strong_reject_responses/eval_all_responses*.json\")) \n",
    "                 - set(glob.glob(\"../results/strong_reject_responses/*responses*checkpoint*\")))\n",
    "\n",
    "for fname in tqdm(eval_filenames):\n",
    "    model_name = \"-\".join(fname.split(\"-\")[1:])[:-5]   # extract the model name from the file name\n",
    "\n",
    "    if \"checkpoint\" in model_name:\n",
    "        continue\n",
    "    \n",
    "    available_models.add(model_name)\n",
    "    \n",
    "    data = load_jsonl_pandas(fname)\n",
    "    for x in data:\n",
    "        scored_eval_data[\"model_name\"].append(model_name)\n",
    "        scored_eval_data[\"forbidden_prompt\"].append(x[\"forbidden_prompt\"])\n",
    "        scored_eval_data[\"category\"].append(x[\"category\"])\n",
    "        scored_eval_data[\"jailbreak\"].append(x[\"jailbreak\"])\n",
    "        scored_eval_data[\"jailbreak_key\"].append((x[\"jailbreak\"], x[\"forbidden_prompt\"]))\n",
    "        scored_eval_data[\"scores\"].append(x[\"score\"])\n",
    "        scored_eval_data[\"mean_score\"].append(np.mean([s for s in x[\"score\"] if s is not None]))\n",
    "        scored_eval_data[\"mean_success\"].append(np.mean([s for s in x[\"score\"] if s is not None]) >= 0.5)\n",
    "        scored_eval_data[\"max_score\"].append(max([s for s in x[\"score\"] if s is not None]))\n",
    "        scored_eval_data[\"max_success\"].append(max([s for s in x[\"score\"] if s is not None]) >= 0.5)\n",
    "        scored_eval_data[\"combined_success\"].append((scored_eval_data[\"max_score\"][-1] == 1.0) and (scored_eval_data[\"mean_score\"][-1] >= 0.5))\n"
   ]
  },
  {
   "cell_type": "code",
   "execution_count": null,
   "id": "e3eccbf8-7bfd-472e-b267-3225217eb6a0",
   "metadata": {},
   "outputs": [],
   "source": [
    "scored_eval_df = pd.DataFrame.from_dict(scored_eval_data)"
   ]
  },
  {
   "cell_type": "code",
   "execution_count": null,
   "id": "0fc4ca3f-cb71-4bf1-84f7-7e9da56214c8",
   "metadata": {},
   "outputs": [],
   "source": [
    "scored_eval_df[\"model_name\"].unique()"
   ]
  },
  {
   "cell_type": "code",
   "execution_count": null,
   "id": "b102e6e6-b71c-43b8-a165-2287d8bbf2c7",
   "metadata": {},
   "outputs": [],
   "source": []
  },
  {
   "cell_type": "code",
   "execution_count": null,
   "id": "56028777-cb53-490f-92fb-fa3b8224e3c5",
   "metadata": {},
   "outputs": [],
   "source": [
    "_df = scored_eval_df[[\"model_name\", \"jailbreak\", \"mean_score\"]].groupby([\"model_name\", \"jailbreak\"]).agg(\"mean\").reset_index()\n",
    "plt.figure(figsize=(12, 18))\n",
    "sns.heatmap(_df.pivot(index=\"jailbreak\", columns=\"model_name\", values=\"mean_score\"), vmin=0.0, vmax=1.0)\n",
    "plt.xlabel('')\n",
    "plt.ylabel('')\n",
    "plt.rcParams.update({'font.size': 21})\n",
    "plt.savefig(\"expected_mean_score_by_type.pdf\", format=\"pdf\", bbox_inches=\"tight\")\n"
   ]
  },
  {
   "cell_type": "code",
   "execution_count": null,
   "id": "9ddbd2fb-78cb-40ba-8ae1-9b230126a5bc",
   "metadata": {},
   "outputs": [],
   "source": [
    "_df = scored_eval_df[[\"model_name\", \"jailbreak\", \"max_score\"]].groupby([\"model_name\", \"jailbreak\"]).agg(\"mean\").reset_index()\n",
    "plt.figure(figsize=(12, 18))\n",
    "\n",
    "sns.heatmap(_df.pivot(index=\"jailbreak\", columns=\"model_name\", values=\"max_score\"), vmin=0.0, vmax=1.0)\n",
    "plt.xlabel('')\n",
    "plt.ylabel('')\n",
    "plt.rcParams.update({'font.size': 21})\n",
    "\n",
    "plt.savefig(\"expected_max_score_by_type.pdf\", format=\"pdf\", bbox_inches=\"tight\")"
   ]
  },
  {
   "cell_type": "code",
   "execution_count": null,
   "id": "58bf1a0e-08cc-499e-9f5f-4377c9c157bf",
   "metadata": {},
   "outputs": [],
   "source": [
    "success_by_jailbreak = []\n",
    "for jailbreak in scored_eval_df[\"jailbreak\"].unique():\n",
    "    success_by_jailbreak.append((jailbreak, np.mean(scored_eval_df[scored_eval_df[\"jailbreak\"] == jailbreak][\"mean_score\"])))\n",
    "list(list(zip(*sorted(success_by_jailbreak, key=lambda x: -x[1])[:20]))[0])"
   ]
  },
  {
   "cell_type": "code",
   "execution_count": null,
   "id": "9173c923-eb96-48b0-9c85-0c8c9de37d2b",
   "metadata": {
    "scrolled": true
   },
   "outputs": [],
   "source": [
    "with open(\"pairwise_knn_layer_dfs.pkl\", \"rb\") as f:\n",
    "    knn_layer_frac_dfs = pickle.load(f)"
   ]
  },
  {
   "cell_type": "code",
   "execution_count": null,
   "id": "8f1498fb-4a7b-49ba-a0ad-9f97d477fc0e",
   "metadata": {
    "scrolled": true
   },
   "outputs": [],
   "source": [
    "knn_layer_frac_dfs"
   ]
  },
  {
   "cell_type": "code",
   "execution_count": null,
   "id": "031a1a08-add7-4b6c-9e46-e42224158594",
   "metadata": {},
   "outputs": [],
   "source": [
    "success_keys = [\n",
    "    \"mean_score\",\n",
    "    \"max_score\",\n",
    "]\n",
    "\n",
    "_knn_layer_frac_dfs = copy.deepcopy(knn_layer_frac_dfs)\n",
    "\n",
    "jailbreak_scores_corr = defaultdict(list)\n",
    "for model_a, model_b in tqdm(zip(knn_layer_frac_dfs[0][\"model_a\"], knn_layer_frac_dfs[0][\"model_b\"])):\n",
    "    jailbreak_scores_corr[\"same_family\"].append(model_a[:4] == model_b[:4])\n",
    "    for success_key in success_keys:\n",
    "        model_a_scores_df = scored_eval_df[scored_eval_df[\"model_name\"] == model_a][[\"jailbreak_key\", \"mean_score\", \"max_score\"]].rename(\n",
    "            columns={\"mean_score\": \"mean_score_model_a\", \"max_score\": \"max_score_model_a\"})\n",
    "        model_b_scores_df = scored_eval_df[scored_eval_df[\"model_name\"] == model_b][[\"jailbreak_key\", \"mean_score\", \"max_score\"]].rename(\n",
    "            columns={\"mean_score\": \"mean_score_model_b\", \"max_score\": \"max_score_model_b\"})\n",
    "        joint_scores_df = pd.merge(model_a_scores_df, model_b_scores_df, on='jailbreak_key', how='inner')\n",
    "        joint_scores_df[[\"jailbreak\", \"forbidden_prompt\"]] = joint_scores_df[\"jailbreak_key\"].to_list()\n",
    "\n",
    "        jailbreak_scores_corr[success_key].append(\n",
    "            joint_scores_df[success_key + \"_model_a\"].corr(joint_scores_df[success_key + \"_model_b\"]))\n",
    "        \n",
    "        for success_threshold in [0.5, 0.6, 0.7, 0.8, 0.9]:\n",
    "            a_pred_b = roc_auc_score(joint_scores_df[success_key + \"_model_b\"] >= success_threshold, \n",
    "                                     joint_scores_df[\"mean_score\" + \"_model_a\"])\n",
    "            b_pred_a = roc_auc_score(joint_scores_df[success_key + \"_model_a\"] >= success_threshold, \n",
    "                                     joint_scores_df[\"mean_score\" + \"_model_b\"])\n",
    "            symm_pred = (a_pred_b + b_pred_a) / 2\n",
    "            symm_diff = np.abs(a_pred_b - b_pred_a)\n",
    "       \n",
    "            jailbreak_scores_corr[success_key + \"_symm_pred_\" + str(success_threshold)].append(symm_pred)\n",
    "            jailbreak_scores_corr[success_key + \"_symm_diff_\" + str(success_threshold)].append(symm_diff)\n",
    "\n",
    "            a_transfer_b = np.mean(joint_scores_df[joint_scores_df[success_key + \"_model_a\"] >= success_threshold][\"max_score\" + \"_model_b\"])\n",
    "            b_transfer_a = np.mean(joint_scores_df[joint_scores_df[success_key + \"_model_b\"] >= success_threshold][\"max_score\" + \"_model_a\"])\n",
    "\n",
    "            symm_transfer = (a_transfer_b + b_transfer_a) / 2            \n",
    "            jailbreak_scores_corr[success_key + \"_symm_transfer_\" + str(success_threshold)].append(symm_transfer)\n",
    "\n",
    "for i in range(len(knn_layer_frac_dfs)):\n",
    "    for success_key, vals_list in jailbreak_scores_corr.items():\n",
    "        _knn_layer_frac_dfs[i][success_key] = vals_list\n"
   ]
  },
  {
   "cell_type": "code",
   "execution_count": null,
   "id": "58e372bc-e33f-4fef-87f5-b5fd09f6cac9",
   "metadata": {},
   "outputs": [],
   "source": [
    "knn_layer_frac_dfs"
   ]
  },
  {
   "cell_type": "code",
   "execution_count": null,
   "id": "b13e66ef-45a9-4b98-83db-34a52e6b2b39",
   "metadata": {},
   "outputs": [],
   "source": [
    "corr_dict = defaultdict(dict)\n",
    "corr_data = defaultdict(list)\n",
    "for _df in _knn_layer_frac_dfs:\n",
    "    for success_key in [k for k in _knn_layer_frac_dfs[0].keys() if (\"mean\" in k or \"max\" in k) and \"diff\" not in k]:\n",
    "        corr_dict[_df[\"layer_frac\"].unique()[0]][success_key] = _df[\"knn_iou\"].corr(_df[success_key])\n",
    "        corr_data[\"layer_frac\"].append(_df[\"layer_frac\"].unique()[0])\n",
    "        corr_data[\"success_key\"].append(success_key)\n",
    "        corr_data[\"pairwise_success_corr\"].append(_df[\"knn_iou\"].corr(_df[success_key]))   \n",
    "corr_df = pd.DataFrame.from_dict(corr_data)\n"
   ]
  },
  {
   "cell_type": "code",
   "execution_count": null,
   "id": "14d14dcd-7931-4e6e-89e5-04f86b36a523",
   "metadata": {},
   "outputs": [],
   "source": [
    "sns.heatmap(corr_df.pivot(index=\"success_key\", columns=\"layer_frac\", values=\"pairwise_success_corr\"))"
   ]
  },
  {
   "cell_type": "code",
   "execution_count": null,
   "id": "3ea775f3-4bab-44b3-a04e-ea871f0361d7",
   "metadata": {},
   "outputs": [],
   "source": [
    "sns.scatterplot(data=_knn_layer_frac_dfs[7], x='knn_iou', y='max_score_symm_pred_0.5')"
   ]
  }
 ],
 "metadata": {
  "kernelspec": {
   "display_name": "Python 3 (ipykernel)",
   "language": "python",
   "name": "python3"
  },
  "language_info": {
   "codemirror_mode": {
    "name": "ipython",
    "version": 3
   },
   "file_extension": ".py",
   "mimetype": "text/x-python",
   "name": "python",
   "nbconvert_exporter": "python",
   "pygments_lexer": "ipython3",
   "version": "3.11.7"
  }
 },
 "nbformat": 4,
 "nbformat_minor": 5
}
