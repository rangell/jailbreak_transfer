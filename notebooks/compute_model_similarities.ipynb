{
 "cells": [
  {
   "cell_type": "code",
   "execution_count": null,
   "id": "eba0ae52-0c74-4dfc-8663-e00cfb36ede5",
   "metadata": {},
   "outputs": [],
   "source": [
    "%load_ext autoreload \n",
    "%autoreload 2"
   ]
  },
  {
   "cell_type": "code",
   "execution_count": null,
   "id": "9088dbae-e99b-4684-816d-34c7fd730244",
   "metadata": {},
   "outputs": [],
   "source": [
    "from collections import defaultdict\n",
    "import copy\n",
    "import json\n",
    "import glob\n",
    "import os\n",
    "import pickle\n",
    "import random\n",
    "import numpy as np\n",
    "import pandas as pd\n",
    "import matplotlib.pyplot as plt\n",
    "import seaborn as sns\n",
    "from tqdm import tqdm"
   ]
  },
  {
   "cell_type": "code",
   "execution_count": null,
   "id": "638b9cc6-2666-40d6-8a10-4499a0ec8d90",
   "metadata": {},
   "outputs": [],
   "source": [
    "random.seed(42)\n",
    "KNN_GRAPHS_DIR = \"../results/knn_graphs/\""
   ]
  },
  {
   "cell_type": "code",
   "execution_count": null,
   "id": "84b44474-7f96-4849-9f46-0160179ae545",
   "metadata": {},
   "outputs": [],
   "source": [
    "knn_graphs_data = defaultdict(dict)\n",
    "for fname in tqdm(glob.glob(f\"{KNN_GRAPHS_DIR}/*-new.pkl\")):\n",
    "    with open(fname, \"rb\") as f:\n",
    "        knn_data = pickle.load(f)\n",
    "    model_name = knn_data[\"model_name\"]\n",
    "    relative_layers = sorted(knn_data[\"knn_graphs\"].keys())\n",
    "    for layer_frac, relative_layer_idx in zip([0.1, 0.2, 0.3, 0.4, 0.5, 0.6, 0.7, 0.8, 0.9, 1.0], relative_layers):\n",
    "        knn_graphs_data[model_name][layer_frac] = knn_data[\"knn_graphs\"][relative_layer_idx]\n"
   ]
  },
  {
   "cell_type": "code",
   "execution_count": null,
   "id": "1b3a1f80-aeed-46ca-9794-f1b95ab5847a",
   "metadata": {
    "scrolled": true
   },
   "outputs": [],
   "source": [
    "knn_graphs_data"
   ]
  },
  {
   "cell_type": "code",
   "execution_count": null,
   "id": "8753b1ae-b6bb-4f4e-a5fc-eebc34ac4349",
   "metadata": {
    "scrolled": true
   },
   "outputs": [],
   "source": [
    "pairwise_model_data = defaultdict(list)\n",
    "count = 0\n",
    "for layer_frac in [0.1, 0.2, 0.3, 0.4, 0.5, 0.6, 0.7, 0.8, 0.9, 1.0]:\n",
    "    for model_a in knn_graphs_data.keys():\n",
    "        for model_b in knn_graphs_data.keys():\n",
    "            intersection_graph = knn_graphs_data[model_a][layer_frac].multiply(knn_graphs_data[model_b][layer_frac])\n",
    "            union_graph = knn_graphs_data[model_a][layer_frac] + knn_graphs_data[model_b][layer_frac]\n",
    "            iou = intersection_graph.nnz / union_graph.nnz\n",
    "            pairwise_model_data[\"layer_frac\"].append(layer_frac)\n",
    "            pairwise_model_data[\"model_a\"].append(model_a)\n",
    "            pairwise_model_data[\"model_b\"].append(model_b)\n",
    "            pairwise_model_data[\"knn_iou\"].append(iou)\n",
    "            print(layer_frac, model_a, model_b, intersection_graph.nnz, union_graph.nnz, iou)"
   ]
  },
  {
   "cell_type": "code",
   "execution_count": null,
   "id": "cc4f30fe-a81b-4160-8c00-b2e465c76bb3",
   "metadata": {},
   "outputs": [],
   "source": [
    "pairwise_model_df = pd.DataFrame.from_dict(pairwise_model_data)"
   ]
  },
  {
   "cell_type": "code",
   "execution_count": null,
   "id": "7c8a0da0-821a-447e-8381-77d25be23180",
   "metadata": {},
   "outputs": [],
   "source": [
    "pairwise_model_df"
   ]
  },
  {
   "cell_type": "code",
   "execution_count": null,
   "id": "98f89fa6-e303-400f-9672-58e4f11e9245",
   "metadata": {},
   "outputs": [],
   "source": [
    "\n",
    "similarity_df = pairwise_model_df[pairwise_model_df[\"layer_frac\"] == 0.8].pivot(index=\"model_a\", columns=\"model_b\", values=\"knn_iou\")\n",
    "\n",
    "from sklearn.manifold import MDS\n",
    "from sklearn.decomposition import PCA\n",
    "\n",
    "# Convert similarity to dissimilarity for MDS\n",
    "dissimilarity_matrix = 1 - similarity_df.values\n",
    "\n",
    "# Apply MDS\n",
    "mds = MDS(n_components=2, dissimilarity='precomputed', random_state=42)\n",
    "mds_embedding = mds.fit_transform(dissimilarity_matrix)\n",
    "\n",
    "# Create a DataFrame for the 2D embedding\n",
    "embedding_df = pd.DataFrame(mds_embedding, columns=['Component_1', 'Component_2'], index=similarity_df.index)\n",
    "\n",
    "embedding_df.keys()\n"
   ]
  },
  {
   "cell_type": "code",
   "execution_count": null,
   "id": "9ac8030f-4e67-41cf-bb0e-334f2cd50965",
   "metadata": {},
   "outputs": [],
   "source": [
    "embedding_df.to_json()"
   ]
  },
  {
   "cell_type": "code",
   "execution_count": null,
   "id": "024e2504-d9c8-49e5-adbb-11ffc4eda92d",
   "metadata": {},
   "outputs": [],
   "source": [
    "plt.figure(figsize=(10, 8)) # Optional: set figure size\n",
    "plt.xlim(-0.6, 0.8)\n",
    "plt.ylim(-0.8, 0.8)\n",
    "sns.scatterplot(data=embedding_df, x='Component_1', y='Component_2')\n",
    "\n",
    "for index, row in embedding_df.iterrows():\n",
    "    plt.text(x=row['Component_1'] + 0.02, y=row['Component_2'] + 0.02, s=index, \n",
    "             fontdict=dict(color='black', size=9),\n",
    "             bbox=dict(facecolor='white', alpha=0.5, edgecolor='none'))\n"
   ]
  },
  {
   "cell_type": "code",
   "execution_count": null,
   "id": "ed7334db-65fb-4d23-b9f3-fa46581ff355",
   "metadata": {},
   "outputs": [],
   "source": [
    "sns.heatmap(pairwise_model_df[(pairwise_model_df[\"model_a\"] != pairwise_model_df[\"model_b\"]) & (pairwise_model_df[\"layer_frac\"] == 1.0)].pivot(index=\"model_a\", columns=\"model_b\", values=\"knn_iou\"), vmin=0.2, vmax=0.7)\n",
    "plt.xlabel('')\n",
    "plt.ylabel('')\n",
    "plt.savefig(\"model_similarity-1.0.pdf\", format=\"pdf\", bbox_inches=\"tight\")\n"
   ]
  },
  {
   "cell_type": "code",
   "execution_count": null,
   "id": "e1e1b6a7-3f24-482c-ad87-07b6a183fe5b",
   "metadata": {},
   "outputs": [],
   "source": [
    "pairwise_model_df"
   ]
  },
  {
   "cell_type": "code",
   "execution_count": null,
   "id": "dd65ec32-c078-49c5-a2a2-16bbec7b87aa",
   "metadata": {
    "scrolled": true
   },
   "outputs": [],
   "source": [
    "layer_frac_dfs = []\n",
    "for layer_frac in [0.1, 0.2, 0.3, 0.4, 0.5, 0.6, 0.7, 0.8, 0.9, 1.0]:\n",
    "    layer_frac_dfs.append(pairwise_model_df[pairwise_model_df[\"layer_frac\"] == layer_frac].sort_values(\n",
    "        by=[\"model_a\", \"model_b\"], ascending=[True, True]).reset_index(drop=True))\n",
    "layer_frac_dfs"
   ]
  },
  {
   "cell_type": "code",
   "execution_count": null,
   "id": "f59bb64a-a7f6-497a-925d-21428f2eb59e",
   "metadata": {},
   "outputs": [],
   "source": [
    "with open(\"pairwise_knn_layer_dfs.pkl\", \"wb\") as f:\n",
    "    pickle.dump(layer_frac_dfs, f)"
   ]
  },
  {
   "cell_type": "code",
   "execution_count": null,
   "id": "8356fabd-7840-4b7d-acb0-a59b862444d4",
   "metadata": {},
   "outputs": [],
   "source": [
    "pairwise_model_df"
   ]
  },
  {
   "cell_type": "code",
   "execution_count": null,
   "id": "1a261d4d-bea3-474f-b5dd-1eda80dcf26c",
   "metadata": {},
   "outputs": [],
   "source": [
    "sns.heatmap(pairwise_model_df[pairwise_model_df[\"layer_frac\"] == 0.8].pivot(index=\"model_a\", columns=\"model_b\", values=\"knn_iou\"))"
   ]
  },
  {
   "cell_type": "code",
   "execution_count": null,
   "id": "00d0d009-4e28-4f9c-8293-93f9180ffc02",
   "metadata": {},
   "outputs": [],
   "source": [
    "\n",
    "sns.heatmap(pairwise_model_df[pairwise_model_df[\"layer_frac\"] == 0.2].pivot(index=\"model_a\", columns=\"model_b\", values=\"knn_iou\"))"
   ]
  },
  {
   "cell_type": "code",
   "execution_count": null,
   "id": "50e6215e-9e8b-4e86-9d00-b9a86b320659",
   "metadata": {},
   "outputs": [],
   "source": [
    "\n",
    "sns.heatmap(pairwise_model_df[pairwise_model_df[\"layer_frac\"] == 0.3].pivot(index=\"model_a\", columns=\"model_b\", values=\"knn_iou\"))"
   ]
  },
  {
   "cell_type": "code",
   "execution_count": null,
   "id": "7afc3ae0-307c-4e41-a3fe-88189a7627eb",
   "metadata": {},
   "outputs": [],
   "source": [
    "\n",
    "sns.heatmap(pairwise_model_df[pairwise_model_df[\"layer_frac\"] == 0.4].pivot(index=\"model_a\", columns=\"model_b\", values=\"knn_iou\"))"
   ]
  },
  {
   "cell_type": "code",
   "execution_count": null,
   "id": "ba3141eb-2b06-4c18-a6ad-49fb4a0b3cfb",
   "metadata": {},
   "outputs": [],
   "source": [
    "\n",
    "sns.heatmap(pairwise_model_df[pairwise_model_df[\"layer_frac\"] == 0.5].pivot(index=\"model_a\", columns=\"model_b\", values=\"knn_iou\"))"
   ]
  },
  {
   "cell_type": "code",
   "execution_count": null,
   "id": "2ba1281c-554b-4649-a081-f5455dd53b86",
   "metadata": {},
   "outputs": [],
   "source": [
    "\n",
    "sns.heatmap(pairwise_model_df[pairwise_model_df[\"layer_frac\"] == 0.6].pivot(index=\"model_a\", columns=\"model_b\", values=\"knn_iou\"))"
   ]
  },
  {
   "cell_type": "code",
   "execution_count": null,
   "id": "75542b52-d4e3-4957-81a1-7f336aabf6a2",
   "metadata": {},
   "outputs": [],
   "source": [
    "\n",
    "sns.heatmap(pairwise_model_df[pairwise_model_df[\"layer_frac\"] == 0.7].pivot(index=\"model_a\", columns=\"model_b\", values=\"knn_iou\"))"
   ]
  },
  {
   "cell_type": "code",
   "execution_count": null,
   "id": "bccaeae3-c20b-46cb-ab7a-c3206b654fd8",
   "metadata": {},
   "outputs": [],
   "source": [
    "\n",
    "sns.heatmap(pairwise_model_df[pairwise_model_df[\"layer_frac\"] == 0.8].pivot(index=\"model_a\", columns=\"model_b\", values=\"knn_iou\"))"
   ]
  },
  {
   "cell_type": "code",
   "execution_count": null,
   "id": "e54730cd-e4b6-425f-affc-9f12c0a8d6b3",
   "metadata": {},
   "outputs": [],
   "source": [
    "\n",
    "sns.heatmap(pairwise_model_df[pairwise_model_df[\"layer_frac\"] == 0.9].pivot(index=\"model_a\", columns=\"model_b\", values=\"knn_iou\"))"
   ]
  },
  {
   "cell_type": "code",
   "execution_count": null,
   "id": "1af69644-4733-4046-85be-294b5bfe24cb",
   "metadata": {},
   "outputs": [],
   "source": [
    "\n",
    "sns.heatmap(pairwise_model_df[pairwise_model_df[\"layer_frac\"] == 1.0].pivot(index=\"model_a\", columns=\"model_b\", values=\"knn_iou\"))"
   ]
  }
 ],
 "metadata": {
  "kernelspec": {
   "display_name": "Python 3 (ipykernel)",
   "language": "python",
   "name": "python3"
  },
  "language_info": {
   "codemirror_mode": {
    "name": "ipython",
    "version": 3
   },
   "file_extension": ".py",
   "mimetype": "text/x-python",
   "name": "python",
   "nbconvert_exporter": "python",
   "pygments_lexer": "ipython3",
   "version": "3.11.7"
  }
 },
 "nbformat": 4,
 "nbformat_minor": 5
}
